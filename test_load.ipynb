{
 "cells": [
  {
   "cell_type": "code",
   "execution_count": 1,
   "metadata": {},
   "outputs": [
    {
     "name": "stderr",
     "output_type": "stream",
     "text": [
      "/home/pcwen/miniconda3/envs/calm/lib/python3.10/site-packages/tqdm/auto.py:21: TqdmWarning: IProgress not found. Please update jupyter and ipywidgets. See https://ipywidgets.readthedocs.io/en/stable/user_install.html\n",
      "  from .autonotebook import tqdm as notebook_tqdm\n",
      "`config.hidden_act` is ignored, you should use `config.hidden_activation` instead.\n",
      "Gemma's activation function will be set to `gelu_pytorch_tanh`. Please, use\n",
      "`config.hidden_activation` if you want to override this behaviour.\n",
      "See https://github.com/huggingface/transformers/pull/29402 for more details.\n",
      "Loading checkpoint shards: 100%|██████████| 2/2 [00:07<00:00,  3.59s/it]\n",
      "Loading checkpoint shards: 100%|██████████| 2/2 [00:01<00:00,  1.04it/s]\n",
      "Loading checkpoint shards: 100%|██████████| 2/2 [00:05<00:00,  2.61s/it]\n",
      "Some weights of CALM were not initialized from the model checkpoint at calm_saves/gemma_test and are newly initialized because the shapes did not match:\n",
      "- anchor_model.lm_head.weight: found shape torch.Size([272636928]) in the checkpoint and torch.Size([256000, 2048]) in the model instantiated\n",
      "- anchor_model.model.embed_tokens.weight: found shape torch.Size([272636928]) in the checkpoint and torch.Size([256000, 2048]) in the model instantiated\n",
      "- anchor_model.model.norm.weight: found shape torch.Size([0]) in the checkpoint and torch.Size([2048]) in the model instantiated\n",
      "- aug_model.lm_head.weight: found shape torch.Size([0]) in the checkpoint and torch.Size([256000, 2048]) in the model instantiated\n",
      "- aug_model.model.embed_tokens.weight: found shape torch.Size([0]) in the checkpoint and torch.Size([256000, 2048]) in the model instantiated\n",
      "- aug_model.model.norm.weight: found shape torch.Size([0]) in the checkpoint and torch.Size([2048]) in the model instantiated\n",
      "- cross_attention_hooks.0.cross_attention.in_proj_bias: found shape torch.Size([0]) in the checkpoint and torch.Size([6144]) in the model instantiated\n",
      "- cross_attention_hooks.0.cross_attention.in_proj_weight: found shape torch.Size([0]) in the checkpoint and torch.Size([6144, 2048]) in the model instantiated\n",
      "- cross_attention_hooks.0.cross_attention.out_proj.bias: found shape torch.Size([0]) in the checkpoint and torch.Size([2048]) in the model instantiated\n",
      "- cross_attention_hooks.0.cross_attention.out_proj.weight: found shape torch.Size([0]) in the checkpoint and torch.Size([2048, 2048]) in the model instantiated\n",
      "- cross_attention_hooks.0.post_attention_layernorm.weight: found shape torch.Size([0]) in the checkpoint and torch.Size([2048]) in the model instantiated\n",
      "- cross_attention_hooks.0.proj.bias: found shape torch.Size([0]) in the checkpoint and torch.Size([2048]) in the model instantiated\n",
      "- cross_attention_hooks.0.proj.weight: found shape torch.Size([0]) in the checkpoint and torch.Size([2048, 2048]) in the model instantiated\n",
      "- cross_attention_hooks.1.cross_attention.in_proj_bias: found shape torch.Size([0]) in the checkpoint and torch.Size([6144]) in the model instantiated\n",
      "- cross_attention_hooks.1.cross_attention.in_proj_weight: found shape torch.Size([0]) in the checkpoint and torch.Size([6144, 2048]) in the model instantiated\n",
      "- cross_attention_hooks.1.cross_attention.out_proj.bias: found shape torch.Size([0]) in the checkpoint and torch.Size([2048]) in the model instantiated\n",
      "- cross_attention_hooks.1.cross_attention.out_proj.weight: found shape torch.Size([0]) in the checkpoint and torch.Size([2048, 2048]) in the model instantiated\n",
      "- cross_attention_hooks.1.post_attention_layernorm.weight: found shape torch.Size([0]) in the checkpoint and torch.Size([2048]) in the model instantiated\n",
      "- cross_attention_hooks.1.proj.bias: found shape torch.Size([0]) in the checkpoint and torch.Size([2048]) in the model instantiated\n",
      "- cross_attention_hooks.1.proj.weight: found shape torch.Size([0]) in the checkpoint and torch.Size([2048, 2048]) in the model instantiated\n",
      "You should probably TRAIN this model on a down-stream task to be able to use it for predictions and inference.\n"
     ]
    },
    {
     "name": "stdout",
     "output_type": "stream",
     "text": [
      "My name is <strong><em><u>K</u></em></strong><strong><em><u>ay</u></em></strong><strong><em><u>na</u></em></strong><strong><em><u> </u></em></strong><strong><em><u>N</u></em></strong><strong><em><u> </u></em></strong><strong><em><u>N</u></em></strong><strong><em><u> </u></em></strong><strong><em><u>N</u></em></strong><strong><em><u> </u></em></strong><strong><em><u>N</u></em></strong><strong><em><u> </u></em></strong><strong><em><u>N</u></em></strong><strong><em><u> \n"
     ]
    }
   ],
   "source": [
    "from model import calm\n",
    "modelpath = \"calm_saves/gemma_test\"\n",
    "config = calm.CALMConfig.from_pretrained(modelpath)\n",
    "loaded_model = calm.CALM.from_pretrained(modelpath, config = config,ignore_mismatched_sizes=True)\n",
    "# loaded_model = calm.CALM.from_pretrained(modelpath, config = config)\n",
    "\n",
    "\n",
    "\n",
    "from transformers import AutoTokenizer\n",
    "tokenizer = AutoTokenizer.from_pretrained(\"google/gemma-2b\")\n",
    "\n",
    "prompt = \"My name is\"\n",
    "\n",
    "inputs = tokenizer(prompt, return_tensors=\"pt\")\n",
    "\n",
    "generate_ids = loaded_model.generate(inputs.input_ids, max_length=100)\n",
    "print(tokenizer.decode(generate_ids[0], skip_special_tokens=True))"
   ]
  }
 ],
 "metadata": {
  "kernelspec": {
   "display_name": "calm",
   "language": "python",
   "name": "python3"
  },
  "language_info": {
   "codemirror_mode": {
    "name": "ipython",
    "version": 3
   },
   "file_extension": ".py",
   "mimetype": "text/x-python",
   "name": "python",
   "nbconvert_exporter": "python",
   "pygments_lexer": "ipython3",
   "version": "3.10.14"
  }
 },
 "nbformat": 4,
 "nbformat_minor": 2
}
