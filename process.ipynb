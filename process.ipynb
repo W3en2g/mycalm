{
 "cells": [
  {
   "cell_type": "code",
   "execution_count": 15,
   "metadata": {},
   "outputs": [],
   "source": [
    "import json\n",
    "\n",
    "# Read the JSON file\n",
    "with open('familyclic_sc.json', 'r', encoding='utf-8') as json_file:\n",
    "    json_data = json.load(json_file)\n",
    "\n",
    "# Filter out entries where 'dialogue' is not a list\n",
    "filtered_data = [entry for entry in json_data if isinstance(entry['dialogue'], list)]\n",
    "\n",
    "# Save the filtered data back to a JSON file with readable Chinese characters\n",
    "with open('filtered_familyclic_sc.json', 'w', encoding='utf-8') as json_file:\n",
    "    json.dump(filtered_data, json_file, ensure_ascii=False, indent=4)"
   ]
  },
  {
   "cell_type": "code",
   "execution_count": 21,
   "metadata": {},
   "outputs": [
    {
     "name": "stderr",
     "output_type": "stream",
     "text": [
      "Special tokens have been added in the vocabulary, make sure the associated word embeddings are fine-tuned or trained.\n"
     ]
    },
    {
     "name": "stdout",
     "output_type": "stream",
     "text": [
      "Maximum number of tokens in any single text entry: 208\n"
     ]
    }
   ],
   "source": [
    "import json\n",
    "from transformers import AutoTokenizer\n",
    "\n",
    "# 加载分词器，这里以BERT为例\n",
    "tokenizer = AutoTokenizer.from_pretrained('Qwen/Qwen2.5-0.5B')\n",
    "\n",
    "def count_tokens(text):\n",
    "    # 对给定的文本进行编码，返回tokens数量\n",
    "    tokens = tokenizer.encode(text, add_special_tokens=False)\n",
    "    return len(tokens)\n",
    "\n",
    "def find_max_token_count(json_file_path):\n",
    "    max_token_count = 0\n",
    "    \n",
    "    # 读取JSON文件\n",
    "    with open(json_file_path, 'r', encoding='utf-8') as file:\n",
    "        data = json.load(file)\n",
    "        \n",
    "        # 遍历JSON数据，找到最大的token数量\n",
    "        for d in data:\n",
    "            for turn in d[\"dialogue\"]:  # 假设JSON是一个列表，每个元素都是一个包含文本的对象\n",
    "                token_count = count_tokens(turn['content'])\n",
    "                max_token_count = max(token_count, max_token_count)\n",
    "                    \n",
    "    return max_token_count\n",
    "\n",
    "# 调用函数并打印结果\n",
    "json_file_path = 'filtered_familyclic_sc.json'\n",
    "max_tokens = find_max_token_count(json_file_path)\n",
    "print(f\"Maximum number of tokens in any single text entry: {max_tokens}\")"
   ]
  }
 ],
 "metadata": {
  "kernelspec": {
   "display_name": "calm",
   "language": "python",
   "name": "python3"
  },
  "language_info": {
   "codemirror_mode": {
    "name": "ipython",
    "version": 3
   },
   "file_extension": ".py",
   "mimetype": "text/x-python",
   "name": "python",
   "nbconvert_exporter": "python",
   "pygments_lexer": "ipython3",
   "version": "3.10.14"
  }
 },
 "nbformat": 4,
 "nbformat_minor": 2
}
