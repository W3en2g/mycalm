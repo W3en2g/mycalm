{
 "cells": [
  {
   "cell_type": "markdown",
   "metadata": {},
   "source": [
    "# two same models\n"
   ]
  },
  {
   "cell_type": "code",
   "execution_count": null,
   "metadata": {},
   "outputs": [],
   "source": [
    "from model import calm\n",
    "\n",
    "calm_config = calm.CALMConfig(\n",
    "      anchor_model=\"google/gemma-2b\",\n",
    "      aug_model=\"google/gemma-2b\",\n",
    "      # connections=[(0,0),(1,1)],  # Each element is a tuple (anchor_model_layer_index, aug_model_layer_index)\n",
    "      num_connections=2,\n",
    "      num_heads=2,\n",
    ")\n",
    "\n",
    "model = calm.CALM(calm_config)\n",
    "\n",
    "model_path = './calm_saves/native_model'\n",
    "calm_config.save_pretrained(model_path)\n",
    "model.save_pretrained(model_path)"
   ]
  },
  {
   "cell_type": "code",
   "execution_count": null,
   "metadata": {},
   "outputs": [],
   "source": [
    "from model import calm\n",
    "config = calm.CALMConfig.from_pretrained(model_path)\n",
    "loaded_model = calm.CALM.from_pretrained(model_path, config = config)\n",
    "\n",
    "\n",
    "from transformers import AutoTokenizer\n",
    "tokenizer = AutoTokenizer.from_pretrained(\"google/gemma-2b\")\n",
    "\n",
    "prompt = \"My name is\"\n",
    "\n",
    "inputs = tokenizer(prompt, return_tensors=\"pt\")\n",
    "\n",
    "generate_ids = loaded_model.generate(inputs.input_ids, max_length=100)\n",
    "print(tokenizer.decode(generate_ids[0], skip_special_tokens=True))"
   ]
  },
  {
   "cell_type": "markdown",
   "metadata": {},
   "source": [
    "# Two different models"
   ]
  },
  {
   "cell_type": "code",
   "execution_count": null,
   "metadata": {},
   "outputs": [],
   "source": [
    "from model import calm\n",
    "\n",
    "calm_config = calm.CALMConfig(\n",
    "      anchor_model=\"google/gemma-2b\",\n",
    "      aug_model=\"google/gemma-7b\",\n",
    "      connections=[(0,0),(1,1)],  # Each element is a tuple (anchor_model_layer_index, aug_model_layer_index)\n",
    "      # num_connections=2,\n",
    "      num_heads=2,\n",
    ")\n",
    "\n",
    "model = calm.CALM(calm_config)\n",
    "\n",
    "model_path = './calm_saves/native_model_mixed'\n",
    "import os\n",
    "if not os.path.exists(model_path):\n",
    "      os.makedirs(model_path)\n",
    "\n",
    "# calm_config.save_pretrained(model_path)\n",
    "# model.save_pretrained(model_path)\n",
    "\n",
    "from transformers import AutoTokenizer\n",
    "tokenizer = AutoTokenizer.from_pretrained(\"google/gemma-7b\")\n",
    "\n",
    "prompt = \"My  hjj\"\n",
    "\n",
    "inputs = tokenizer(prompt, return_tensors=\"pt\")\n",
    "\n",
    "generate_ids = model.generate(inputs.input_ids, max_length=10)\n",
    "\n",
    "print(tokenizer.decode(generate_ids[0], skip_special_tokens=True))"
   ]
  },
  {
   "cell_type": "code",
   "execution_count": null,
   "metadata": {},
   "outputs": [],
   "source": [
    "from model import calm\n",
    "model_path = './calm_saves/native_model'\n",
    "config = calm.CALMConfig.from_pretrained(model_path)\n",
    "loaded_model = calm.CALM.from_pretrained(model_path, config = config)\n",
    "\n",
    "\n",
    "from transformers import AutoTokenizer\n",
    "tokenizer = AutoTokenizer.from_pretrained(\"google/gemma-7b\")\n",
    "\n",
    "prompt = \"My name is\"\n",
    "\n",
    "inputs = tokenizer(prompt, return_tensors=\"pt\")\n",
    "\n",
    "generate_ids = loaded_model.generate(inputs.input_ids, max_length=10)\n",
    "print(tokenizer.decode(generate_ids[0], skip_special_tokens=True))"
   ]
  },
  {
   "cell_type": "markdown",
   "metadata": {},
   "source": [
    "# qwen 2 models\n"
   ]
  },
  {
   "cell_type": "code",
   "execution_count": 1,
   "metadata": {},
   "outputs": [
    {
     "name": "stderr",
     "output_type": "stream",
     "text": [
      "/home/pcwen/miniconda3/envs/calm/lib/python3.10/site-packages/tqdm/auto.py:21: TqdmWarning: IProgress not found. Please update jupyter and ipywidgets. See https://ipywidgets.readthedocs.io/en/stable/user_install.html\n",
      "  from .autonotebook import tqdm as notebook_tqdm\n"
     ]
    },
    {
     "name": "stdout",
     "output_type": "stream",
     "text": [
      "CALMConfig {\n",
      "  \"anchor_config\": null,\n",
      "  \"anchor_model\": \"Qwen/Qwen2.5-7B-instruct\",\n",
      "  \"aug_config\": null,\n",
      "  \"aug_model\": \"Qwen/Qwen2.5-0.5B\",\n",
      "  \"connections\": null,\n",
      "  \"model_type\": \"calm\",\n",
      "  \"num_connections\": 2,\n",
      "  \"num_heads\": 2,\n",
      "  \"transformers_version\": \"4.42.3\"\n",
      "}\n",
      "\n"
     ]
    }
   ],
   "source": [
    "from model import calm\n",
    "\n",
    "calm_config = calm.CALMConfig(\n",
    "      anchor_model=\"Qwen/Qwen2.5-7B-instruct\",\n",
    "      aug_model=\"Qwen/Qwen2.5-0.5B\",\n",
    "      # connections=[(0,0),(1,1)],  # Each element is a tuple (anchor_model_layer_index, aug_model_layer_index)\n",
    "      num_connections=2,\n",
    "      num_heads=2,\n",
    ")\n",
    "\n",
    "print(calm_config)\n",
    "# model = calm.CALM(calm_config)\n",
    "\n",
    "# model_path = './calm_saves/native_model_mixed'\n",
    "# import os\n",
    "# if not os.path.exists(model_path):\n",
    "#       os.makedirs(model_path)\n",
    "\n",
    "# calm_config.save_pretrained(model_path)\n",
    "# model.save_pretrained(model_path)\n",
    "\n",
    "# from transformers import AutoTokenizer\n",
    "# tokenizer = AutoTokenizer.from_pretrained(\"Qwen/Qwen2.5-0.5B-Instruct\")\n",
    "\n",
    "# prompt = \"My name is \"\n",
    "\n",
    "# inputs = tokenizer(prompt, return_tensors=\"pt\")\n",
    "\n",
    "# generate_ids = model.generate(inputs.input_ids, max_length=10)\n",
    "\n",
    "# print(tokenizer.decode(generate_ids[0], skip_special_tokens=True))"
   ]
  },
  {
   "cell_type": "code",
   "execution_count": 2,
   "metadata": {},
   "outputs": [
    {
     "name": "stderr",
     "output_type": "stream",
     "text": [
      "Special tokens have been added in the vocabulary, make sure the associated word embeddings are fine-tuned or trained.\n",
      "We detected that you are passing `past_key_values` as a tuple and this is deprecated and will be removed in v4.43. Please use an appropriate `Cache` class (https://huggingface.co/docs/transformers/v4.41.3/en/internal/generation_utils#transformers.Cache)\n"
     ]
    },
    {
     "name": "stdout",
     "output_type": "stream",
     "text": [
      "怎么领养孩子？\n",
      "\n",
      "\n",
      "0 2222\\22\\22\\22\\22\\22\\22\\22\\22\\22\\22\\22\\22\\22\\22\\22\\22\\22\\222222200,22222222222222222222222222\n"
     ]
    }
   ],
   "source": [
    "from transformers import AutoTokenizer\n",
    "tokenizer = AutoTokenizer.from_pretrained(\"Qwen/Qwen2.5-0.5B-Instruct\")\n",
    "\n",
    "prompt = \"怎么领养孩子？\"\n",
    "\n",
    "inputs = tokenizer(prompt, return_tensors=\"pt\")\n",
    "\n",
    "generate_ids = model.generate(inputs.input_ids, max_length=100)\n",
    "\n",
    "print(tokenizer.decode(generate_ids[0], skip_special_tokens=True))"
   ]
  }
 ],
 "metadata": {
  "kernelspec": {
   "display_name": "calm",
   "language": "python",
   "name": "python3"
  },
  "language_info": {
   "codemirror_mode": {
    "name": "ipython",
    "version": 3
   },
   "file_extension": ".py",
   "mimetype": "text/x-python",
   "name": "python",
   "nbconvert_exporter": "python",
   "pygments_lexer": "ipython3",
   "version": "3.12.4"
  }
 },
 "nbformat": 4,
 "nbformat_minor": 2
}
